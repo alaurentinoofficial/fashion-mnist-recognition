{
 "cells": [
  {
   "cell_type": "markdown",
   "metadata": {},
   "source": [
    "## Config the environment"
   ]
  },
  {
   "cell_type": "markdown",
   "metadata": {},
   "source": [
    "#### Installing libraries:\n",
    "\n",
    "1. Tensorflow\n",
    "2. Keras\n",
    "3. matplotlib\n",
    "4. numpy"
   ]
  },
  {
   "cell_type": "code",
   "execution_count": 1,
   "metadata": {},
   "outputs": [],
   "source": [
    "# !pip install -U tensorflow keras matplotlib numpy"
   ]
  },
  {
   "cell_type": "markdown",
   "metadata": {},
   "source": [
    "#### Disabling the warnings"
   ]
  },
  {
   "cell_type": "code",
   "execution_count": 2,
   "metadata": {},
   "outputs": [],
   "source": [
    "import warnings\n",
    "warnings.filterwarnings('ignore')"
   ]
  },
  {
   "cell_type": "markdown",
   "metadata": {
    "colab_type": "text",
    "id": "yYOG_eqGT-8b"
   },
   "source": [
    "## Load the dataset\n",
    "\n",
    "the Fashion MNIST counts with 70000 of images splided in 10 types of clothes and accessories:\n",
    "\n",
    "0. T-shirt/top\n",
    "1. Trouser\n",
    "2. Pullover\n",
    "3. Dress\n",
    "4. Coat\n",
    "5. Sandal\n",
    "6. Shirt\n",
    "7. Sneaker\n",
    "8. Bag\n",
    "9. Ankle boot"
   ]
  },
  {
   "cell_type": "code",
   "execution_count": 3,
   "metadata": {
    "colab": {
     "base_uri": "https://localhost:8080/",
     "height": 68
    },
    "colab_type": "code",
    "id": "FR4DY2zwO0ou",
    "outputId": "3a03fef9-fcf4-46a1-88e1-8927d54fc914"
   },
   "outputs": [
    {
     "name": "stderr",
     "output_type": "stream",
     "text": [
      "Using TensorFlow backend.\n"
     ]
    },
    {
     "name": "stdout",
     "output_type": "stream",
     "text": [
      "Train shape: (60000, 28, 28)\n",
      "Test shape: (10000, 28, 28)\n"
     ]
    }
   ],
   "source": [
    "from keras.datasets import fashion_mnist\n",
    "\n",
    "# Get the dataset\n",
    "((X_train_ori, y_train_ori), (X_test_ori, y_test_ori)) = fashion_mnist.load_data()\n",
    "\n",
    "# Create a reference for the labels\n",
    "labels = ['T-shirt/top', 'Trouser', 'Pullover', 'Dress', 'Coat', 'Sandal', 'Shirt', 'Sneaker', 'Bag', 'Ankle boot']\n",
    "\n",
    "# Print a summary aboout the train dataset\n",
    "print(\"Train shape:\", X_train_ori.shape)\n",
    "print(\"Test shape:\", X_test_ori.shape)"
   ]
  },
  {
   "cell_type": "markdown",
   "metadata": {
    "colab_type": "text",
    "id": "QLUrWaivUEAn"
   },
   "source": [
    "## Plot some images"
   ]
  },
  {
   "cell_type": "code",
   "execution_count": 4,
   "metadata": {
    "colab": {
     "base_uri": "https://localhost:8080/",
     "height": 416
    },
    "colab_type": "code",
    "id": "I84jOEiyPUpD",
    "outputId": "6b89cb31-3c15-4014-c4b6-32a9ac1c1818"
   },
   "outputs": [
    {
     "data": {
      "text/plain": [
       "<Figure size 1500x700 with 10 Axes>"
      ]
     },
     "metadata": {},
     "output_type": "display_data"
    }
   ],
   "source": [
    "import matplotlib.pyplot as plt\n",
    "\n",
    "# Configure the size of the image\n",
    "plt.figure(figsize=(15,7))\n",
    "\n",
    "# Plot the images\n",
    "for i in range(10):\n",
    "  plt.subplot(2, 5, i+1)\n",
    "  plt.imshow(X_train_ori[i])\n",
    "  plt.title(labels[y_train_ori[i]])\n",
    "\n",
    "plt.show()"
   ]
  },
  {
   "cell_type": "markdown",
   "metadata": {},
   "source": [
    "## Normalize the dataset\n",
    "\n",
    "- Reshape the image vector from 2D images to 3D with this distribuition (inputs size, height, columns, colors). That reshape basicly add one more dimesion corresponding the color, just is a pattern,.\n",
    "- Rescale the value of each one pixel. THe variace between 0 and 255 probably will incresse too much the value of the weight, making the train more difficult. To solve that problem we rescale into 0 and 1.\n",
    "- Tranform the result to categorial. The Fashion MNIST split the classes of the clothes using values between 0 and 9, but isn't scalar problem, so it's necessary tranform into a vector with mutiples results.\n",
    "E.g.: Case the value is `4` the result will be `[0, 0, 0, 0, 1, 0, 0, 0, 0, 0]`"
   ]
  },
  {
   "cell_type": "code",
   "execution_count": 5,
   "metadata": {
    "colab": {},
    "colab_type": "code",
    "id": "Gy6uHL47Zzbw"
   },
   "outputs": [],
   "source": [
    "from keras.utils import np_utils\n",
    "\n",
    "# Reshape to 4D array (inputs size, height, columns, colors)\n",
    "X_train = X_train_ori.reshape(X_train_ori.shape[0], 28, 28, 1)\n",
    "# Normalize the value from 0 to 1.0\n",
    "X_train = X_train.astype('float32')\n",
    "X_train/=255\n",
    "\n",
    "# Reshape to 4D array (inputs size, height, columns, colors)\n",
    "X_test = X_test_ori.reshape(X_test_ori.shape[0], 28, 28, 1)\n",
    "# Normalize the value from 0 to 1.0\n",
    "X_test = X_test.astype('float32')\n",
    "X_test/=255\n",
    "\n",
    "# Transforma in categorical results\n",
    "y_train = np_utils.to_categorical(y_train_ori)\n",
    "y_test= np_utils.to_categorical(y_test_ori)"
   ]
  },
  {
   "cell_type": "markdown",
   "metadata": {
    "colab_type": "text",
    "id": "vuau3q2XUzZ-"
   },
   "source": [
    "## Modeling"
   ]
  },
  {
   "cell_type": "markdown",
   "metadata": {},
   "source": [
    "#### Configs"
   ]
  },
  {
   "cell_type": "code",
   "execution_count": 6,
   "metadata": {},
   "outputs": [],
   "source": [
    "NUM_EPOCHS = 20\n",
    "BATCH_SIZE = 500\n",
    "OUTPUT_SIZE = len(labels)"
   ]
  },
  {
   "cell_type": "markdown",
   "metadata": {},
   "source": [
    "#### Create the model"
   ]
  },
  {
   "cell_type": "code",
   "execution_count": 7,
   "metadata": {
    "colab": {
     "base_uri": "https://localhost:8080/",
     "height": 289
    },
    "colab_type": "code",
    "id": "sf9DhUwPU1xk",
    "outputId": "ba1ae1a4-ce5a-4045-ebbd-41893315c92b"
   },
   "outputs": [
    {
     "name": "stdout",
     "output_type": "stream",
     "text": [
      "WARNING:tensorflow:From C:\\ProgramData\\Anaconda3\\lib\\site-packages\\keras\\backend\\tensorflow_backend.py:4070: The name tf.nn.max_pool is deprecated. Please use tf.nn.max_pool2d instead.\n",
      "\n"
     ]
    }
   ],
   "source": [
    "from keras.models import Sequential\n",
    "from keras.layers import Activation, Dropout, Dense, Conv2D, MaxPool2D, Flatten, BatchNormalization\n",
    "\n",
    "# Create a network\n",
    "model = Sequential()\n",
    "\n",
    "# ====================\n",
    "#     First Layer\n",
    "model.add(Conv2D(32, (3,3), padding='same', input_shape=(28, 28, 1)))\n",
    "model.add(Activation('relu'))\n",
    "model.add(BatchNormalization(axis=1))\n",
    "\n",
    "model.add(Conv2D(32, (3,3), padding='same'))\n",
    "model.add(Activation('relu'))\n",
    "model.add(BatchNormalization(axis=1))\n",
    "\n",
    "model.add(MaxPool2D(2, 2))\n",
    "model.add(Dropout(0.2))\n",
    "# ====================\n",
    "\n",
    "# ====================\n",
    "#    Second Layer\n",
    "model.add(Conv2D(64, (3,3), padding='same', input_shape=(28, 28, 1)))\n",
    "model.add(Activation('relu'))\n",
    "model.add(BatchNormalization(axis=1))\n",
    "\n",
    "model.add(Conv2D(64, (3,3), padding='same'))\n",
    "model.add(Activation('relu'))\n",
    "model.add(BatchNormalization(axis=1))\n",
    "\n",
    "model.add(MaxPool2D(2, 2))\n",
    "model.add(Dropout(0.3))\n",
    "# ====================\n",
    "\n",
    "# ====================\n",
    "#      Flatten\n",
    "model.add(Flatten())\n",
    "# ===================\n",
    "\n",
    "# ====================\n",
    "#  First Dense Layer\n",
    "model.add(Dense(512))\n",
    "model.add(Activation('relu'))\n",
    "model.add(BatchNormalization())\n",
    "model.add(Dropout(0.4))\n",
    "# ====================\n",
    "\n",
    "# ====================\n",
    "#  Final Dense Layer\n",
    "model.add(Dense(OUTPUT_SIZE))\n",
    "model.add(Activation('softmax'))\n",
    "# ====================\n",
    "\n",
    "# Define the optmizer and loss function\n",
    "model.compile(loss='categorical_crossentropy', optimizer='Adadelta', metrics=['acc'])"
   ]
  },
  {
   "cell_type": "markdown",
   "metadata": {},
   "source": [
    "### Training"
   ]
  },
  {
   "cell_type": "code",
   "execution_count": 8,
   "metadata": {
    "colab": {
     "base_uri": "https://localhost:8080/",
     "height": 163
    },
    "colab_type": "code",
    "id": "lq_EatbPWMqq",
    "outputId": "eb310e25-1155-4d09-9507-cd55c7ce7d97"
   },
   "outputs": [
    {
     "name": "stdout",
     "output_type": "stream",
     "text": [
      "WARNING:tensorflow:From C:\\ProgramData\\Anaconda3\\lib\\site-packages\\keras\\backend\\tensorflow_backend.py:422: The name tf.global_variables is deprecated. Please use tf.compat.v1.global_variables instead.\n",
      "\n",
      "Train on 60000 samples, validate on 10000 samples\n",
      "Epoch 1/20\n",
      "60000/60000 [==============================] - 250s 4ms/step - loss: 0.6094 - acc: 0.7953 - val_loss: 2.5593 - val_acc: 0.1005\n",
      "Epoch 2/20\n",
      "60000/60000 [==============================] - 244s 4ms/step - loss: 0.3534 - acc: 0.8717 - val_loss: 2.7137 - val_acc: 0.2074\n",
      "Epoch 3/20\n",
      "60000/60000 [==============================] - 247s 4ms/step - loss: 0.2912 - acc: 0.8934 - val_loss: 1.6757 - val_acc: 0.5580\n",
      "Epoch 4/20\n",
      "60000/60000 [==============================] - 245s 4ms/step - loss: 0.2567 - acc: 0.9060 - val_loss: 0.5757 - val_acc: 0.8035\n",
      "Epoch 5/20\n",
      "60000/60000 [==============================] - 255s 4ms/step - loss: 0.2317 - acc: 0.9148 - val_loss: 0.3409 - val_acc: 0.8707\n",
      "Epoch 6/20\n",
      "60000/60000 [==============================] - 246s 4ms/step - loss: 0.2108 - acc: 0.9221 - val_loss: 0.2702 - val_acc: 0.9040\n",
      "Epoch 7/20\n",
      "60000/60000 [==============================] - 249s 4ms/step - loss: 0.1975 - acc: 0.9263 - val_loss: 0.2105 - val_acc: 0.9240\n",
      "Epoch 8/20\n",
      "60000/60000 [==============================] - 247s 4ms/step - loss: 0.1879 - acc: 0.9303 - val_loss: 0.2039 - val_acc: 0.9255\n",
      "Epoch 9/20\n",
      "60000/60000 [==============================] - 244s 4ms/step - loss: 0.1739 - acc: 0.9356 - val_loss: 0.1981 - val_acc: 0.9305\n",
      "Epoch 10/20\n",
      "60000/60000 [==============================] - 245s 4ms/step - loss: 0.1657 - acc: 0.9388 - val_loss: 0.1972 - val_acc: 0.9299\n",
      "Epoch 11/20\n",
      "60000/60000 [==============================] - 249s 4ms/step - loss: 0.1561 - acc: 0.9414 - val_loss: 0.1909 - val_acc: 0.9318\n",
      "Epoch 12/20\n",
      "60000/60000 [==============================] - 244s 4ms/step - loss: 0.1488 - acc: 0.9450 - val_loss: 0.1893 - val_acc: 0.9339\n",
      "Epoch 13/20\n",
      "60000/60000 [==============================] - 244s 4ms/step - loss: 0.1385 - acc: 0.9488 - val_loss: 0.2020 - val_acc: 0.9302\n",
      "Epoch 14/20\n",
      "60000/60000 [==============================] - 245s 4ms/step - loss: 0.1359 - acc: 0.9498 - val_loss: 0.1844 - val_acc: 0.9358\n",
      "Epoch 15/20\n",
      "60000/60000 [==============================] - 244s 4ms/step - loss: 0.1294 - acc: 0.9519 - val_loss: 0.1889 - val_acc: 0.9359\n",
      "Epoch 16/20\n",
      "60000/60000 [==============================] - 246s 4ms/step - loss: 0.1238 - acc: 0.9535 - val_loss: 0.1986 - val_acc: 0.9344\n",
      "Epoch 17/20\n",
      "60000/60000 [==============================] - 248s 4ms/step - loss: 0.1129 - acc: 0.9569 - val_loss: 0.1924 - val_acc: 0.9354\n",
      "Epoch 18/20\n",
      "60000/60000 [==============================] - 247s 4ms/step - loss: 0.1130 - acc: 0.9577 - val_loss: 0.2047 - val_acc: 0.9334\n",
      "Epoch 19/20\n",
      "60000/60000 [==============================] - 245s 4ms/step - loss: 0.1089 - acc: 0.9594 - val_loss: 0.1976 - val_acc: 0.9343\n",
      "Epoch 20/20\n",
      "60000/60000 [==============================] - 243s 4ms/step - loss: 0.1029 - acc: 0.9614 - val_loss: 0.2282 - val_acc: 0.9228\n"
     ]
    }
   ],
   "source": [
    "history = model.fit(X_train, y_train, epochs=NUM_EPOCHS, batch_size=BATCH_SIZE, validation_data=(X_test, y_test), verbose=1)"
   ]
  },
  {
   "cell_type": "markdown",
   "metadata": {},
   "source": [
    "### Accuracy"
   ]
  },
  {
   "cell_type": "code",
   "execution_count": 9,
   "metadata": {},
   "outputs": [
    {
     "data": {
      "image/png": "[encoded data removed]",
      "text/plain": [
       "<Figure size 432x288 with 1 Axes>"
      ]
     },
     "metadata": {
      "needs_background": "light"
     },
     "output_type": "display_data"
    }
   ],
   "source": [
    "plt.title('Result of traing')\n",
    "plt.xlabel('Epochs')\n",
    "plt.ylabel('Accuracy')\n",
    "\n",
    "plt.plot(history.history['acc'], label=\"Training Accuracy\")\n",
    "plt.plot(history.history['val_acc'], label=\"Validation Accuracy\")\n",
    "\n",
    "plt.show()"
   ]
  }
 ],
 "metadata": {
  "colab": {
   "collapsed_sections": [],
   "machine_shape": "hm",
   "name": "classify_clothes.ipynb",
   "provenance": [],
   "version": "0.3.2"
  },
  "kernelspec": {
   "display_name": "Python 3",
   "language": "python",
   "name": "python3"
  },
  "language_info": {
   "codemirror_mode": {
    "name": "ipython",
    "version": 3
   },
   "file_extension": ".py",
   "mimetype": "text/x-python",
   "name": "python",
   "nbconvert_exporter": "python",
   "pygments_lexer": "ipython3",
   "version": "3.7.3"
  }
 },
 "nbformat": 4,
 "nbformat_minor": 1
}
